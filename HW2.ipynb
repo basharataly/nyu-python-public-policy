{
  "nbformat": 4,
  "nbformat_minor": 0,
  "metadata": {
    "colab": {
      "name": "HW2.ipynb",
      "provenance": [],
      "include_colab_link": true
    },
    "kernelspec": {
      "name": "python3",
      "display_name": "Python 3"
    }
  },
  "cells": [
    {
      "cell_type": "markdown",
      "metadata": {
        "id": "view-in-github",
        "colab_type": "text"
      },
      "source": [
        "<a href=\"https://colab.research.google.com/github/basharataly/nyu-python-public-policy/blob/master/HW2.ipynb\" target=\"_parent\"><img src=\"https://colab.research.google.com/assets/colab-badge.svg\" alt=\"Open In Colab\"/></a>"
      ]
    },
    {
      "cell_type": "code",
      "metadata": {
        "id": "ZCQJuQT-m0nA",
        "colab_type": "code",
        "colab": {
          "base_uri": "https://localhost:8080/",
          "height": 125
        },
        "outputId": "790c9829-43af-4e5d-de4d-1d917890cf8c"
      },
      "source": [
        "import pandas as pd\n",
        "from google.colab import drive\n",
        "drive.mount('/content/drive')"
      ],
      "execution_count": 1,
      "outputs": [
        {
          "output_type": "stream",
          "text": [
            "Go to this URL in a browser: https://accounts.google.com/o/oauth2/auth?client_id=947318989803-6bn6qk8qdgf4n4g3pfee6491hc0brc4i.apps.googleusercontent.com&redirect_uri=urn%3Aietf%3Awg%3Aoauth%3A2.0%3Aoob&scope=email%20https%3A%2F%2Fwww.googleapis.com%2Fauth%2Fdocs.test%20https%3A%2F%2Fwww.googleapis.com%2Fauth%2Fdrive%20https%3A%2F%2Fwww.googleapis.com%2Fauth%2Fdrive.photos.readonly%20https%3A%2F%2Fwww.googleapis.com%2Fauth%2Fpeopleapi.readonly&response_type=code\n",
            "\n",
            "Enter your authorization code:\n",
            "··········\n",
            "Mounted at /content/drive\n"
          ],
          "name": "stdout"
        }
      ]
    },
    {
      "cell_type": "code",
      "metadata": {
        "id": "xluxHCb-m8E4",
        "colab_type": "code",
        "colab": {
          "base_uri": "https://localhost:8080/",
          "height": 72
        },
        "outputId": "d0fb412f-2171-437c-dd5c-538c8ff24331"
      },
      "source": [
        "df = pd.read_csv('/content/drive/My Drive/Data for Python/cleaned_311_data.csv', header='infer')"
      ],
      "execution_count": 2,
      "outputs": [
        {
          "output_type": "stream",
          "text": [
            "/usr/local/lib/python3.6/dist-packages/IPython/core/interactiveshell.py:2718: DtypeWarning: Columns (9,18,21,32,35) have mixed types. Specify dtype option on import or set low_memory=False.\n",
            "  interactivity=interactivity, compiler=compiler, result=result)\n"
          ],
          "name": "stderr"
        }
      ]
    },
    {
      "cell_type": "code",
      "metadata": {
        "id": "UJY6C_r3nFLA",
        "colab_type": "code",
        "colab": {
          "base_uri": "https://localhost:8080/",
          "height": 197
        },
        "outputId": "c0f492ea-2b08-46c6-8d38-9012af0162d3"
      },
      "source": [
        "ct_counts = df.groupby('open_data_channel_type').size().reset_index(name='count_of_311_requests').sort_values('count_of_311_requests', ascending=False)\n",
        "ct_counts.head()"
      ],
      "execution_count": 7,
      "outputs": [
        {
          "output_type": "execute_result",
          "data": {
            "text/html": [
              "<div>\n",
              "<style scoped>\n",
              "    .dataframe tbody tr th:only-of-type {\n",
              "        vertical-align: middle;\n",
              "    }\n",
              "\n",
              "    .dataframe tbody tr th {\n",
              "        vertical-align: top;\n",
              "    }\n",
              "\n",
              "    .dataframe thead th {\n",
              "        text-align: right;\n",
              "    }\n",
              "</style>\n",
              "<table border=\"1\" class=\"dataframe\">\n",
              "  <thead>\n",
              "    <tr style=\"text-align: right;\">\n",
              "      <th></th>\n",
              "      <th>open_data_channel_type</th>\n",
              "      <th>count_of_311_requests</th>\n",
              "    </tr>\n",
              "  </thead>\n",
              "  <tbody>\n",
              "    <tr>\n",
              "      <th>3</th>\n",
              "      <td>PHONE</td>\n",
              "      <td>1463204</td>\n",
              "    </tr>\n",
              "    <tr>\n",
              "      <th>1</th>\n",
              "      <td>ONLINE</td>\n",
              "      <td>589865</td>\n",
              "    </tr>\n",
              "    <tr>\n",
              "      <th>4</th>\n",
              "      <td>UNKNOWN</td>\n",
              "      <td>417916</td>\n",
              "    </tr>\n",
              "    <tr>\n",
              "      <th>0</th>\n",
              "      <td>MOBILE</td>\n",
              "      <td>368759</td>\n",
              "    </tr>\n",
              "    <tr>\n",
              "      <th>2</th>\n",
              "      <td>OTHER</td>\n",
              "      <td>19267</td>\n",
              "    </tr>\n",
              "  </tbody>\n",
              "</table>\n",
              "</div>"
            ],
            "text/plain": [
              "  open_data_channel_type  count_of_311_requests\n",
              "3                  PHONE                1463204\n",
              "1                 ONLINE                 589865\n",
              "4                UNKNOWN                 417916\n",
              "0                 MOBILE                 368759\n",
              "2                  OTHER                  19267"
            ]
          },
          "metadata": {
            "tags": []
          },
          "execution_count": 7
        }
      ]
    },
    {
      "cell_type": "code",
      "metadata": {
        "id": "G_rkhI1jnlXf",
        "colab_type": "code",
        "colab": {
          "base_uri": "https://localhost:8080/",
          "height": 197
        },
        "outputId": "9c62d2e8-8b55-48c3-90ab-7645f21d4191"
      },
      "source": [
        "df.groupby([ 'complaint_type','open_data_channel_type' ]).size().nlargest().reset_index(name='count')\n"
      ],
      "execution_count": 20,
      "outputs": [
        {
          "output_type": "execute_result",
          "data": {
            "text/html": [
              "<div>\n",
              "<style scoped>\n",
              "    .dataframe tbody tr th:only-of-type {\n",
              "        vertical-align: middle;\n",
              "    }\n",
              "\n",
              "    .dataframe tbody tr th {\n",
              "        vertical-align: top;\n",
              "    }\n",
              "\n",
              "    .dataframe thead th {\n",
              "        text-align: right;\n",
              "    }\n",
              "</style>\n",
              "<table border=\"1\" class=\"dataframe\">\n",
              "  <thead>\n",
              "    <tr style=\"text-align: right;\">\n",
              "      <th></th>\n",
              "      <th>complaint_type</th>\n",
              "      <th>open_data_channel_type</th>\n",
              "      <th>count</th>\n",
              "    </tr>\n",
              "  </thead>\n",
              "  <tbody>\n",
              "    <tr>\n",
              "      <th>0</th>\n",
              "      <td>Request Large Bulky Item Collection</td>\n",
              "      <td>PHONE</td>\n",
              "      <td>177175</td>\n",
              "    </tr>\n",
              "    <tr>\n",
              "      <th>1</th>\n",
              "      <td>HEAT/HOT WATER</td>\n",
              "      <td>PHONE</td>\n",
              "      <td>128002</td>\n",
              "    </tr>\n",
              "    <tr>\n",
              "      <th>2</th>\n",
              "      <td>Noise - Residential</td>\n",
              "      <td>PHONE</td>\n",
              "      <td>95407</td>\n",
              "    </tr>\n",
              "    <tr>\n",
              "      <th>3</th>\n",
              "      <td>Blocked Driveway</td>\n",
              "      <td>PHONE</td>\n",
              "      <td>95206</td>\n",
              "    </tr>\n",
              "    <tr>\n",
              "      <th>4</th>\n",
              "      <td>Noise - Residential</td>\n",
              "      <td>ONLINE</td>\n",
              "      <td>89050</td>\n",
              "    </tr>\n",
              "  </tbody>\n",
              "</table>\n",
              "</div>"
            ],
            "text/plain": [
              "                        complaint_type open_data_channel_type   count\n",
              "0  Request Large Bulky Item Collection                  PHONE  177175\n",
              "1                       HEAT/HOT WATER                  PHONE  128002\n",
              "2                  Noise - Residential                  PHONE   95407\n",
              "3                     Blocked Driveway                  PHONE   95206\n",
              "4                  Noise - Residential                 ONLINE   89050"
            ]
          },
          "metadata": {
            "tags": []
          },
          "execution_count": 20
        }
      ]
    },
    {
      "cell_type": "markdown",
      "metadata": {
        "id": "RUSSXbiH0MOV",
        "colab_type": "text"
      },
      "source": [
        "Phone is more convenient for complaints like bulky item collection and blocked driveway. Also, maybe more people complain about it on phone to have quicker response."
      ]
    },
    {
      "cell_type": "code",
      "metadata": {
        "id": "60WdYHS8vN-p",
        "colab_type": "code",
        "colab": {
          "base_uri": "https://localhost:8080/",
          "height": 406
        },
        "outputId": "816092ad-4654-449f-852b-4e2ca4c824f1"
      },
      "source": [
        "compaint_counts = df.groupby(['open_data_channel_type', 'complaint_type']).size().reset_index(name='count')\n",
        "complaint_counts.sort_values(['count','complaint_type'], ascending=[False,True]).drop_duplicates(['complaint_type'])\n"
      ],
      "execution_count": 24,
      "outputs": [
        {
          "output_type": "execute_result",
          "data": {
            "text/html": [
              "<div>\n",
              "<style scoped>\n",
              "    .dataframe tbody tr th:only-of-type {\n",
              "        vertical-align: middle;\n",
              "    }\n",
              "\n",
              "    .dataframe tbody tr th {\n",
              "        vertical-align: top;\n",
              "    }\n",
              "\n",
              "    .dataframe thead th {\n",
              "        text-align: right;\n",
              "    }\n",
              "</style>\n",
              "<table border=\"1\" class=\"dataframe\">\n",
              "  <thead>\n",
              "    <tr style=\"text-align: right;\">\n",
              "      <th></th>\n",
              "      <th>complaint_type</th>\n",
              "      <th>open_data_channel_type</th>\n",
              "      <th>count</th>\n",
              "    </tr>\n",
              "  </thead>\n",
              "  <tbody>\n",
              "    <tr>\n",
              "      <th>378</th>\n",
              "      <td>Request Large Bulky Item Collection</td>\n",
              "      <td>PHONE</td>\n",
              "      <td>177175</td>\n",
              "    </tr>\n",
              "    <tr>\n",
              "      <th>200</th>\n",
              "      <td>HEAT/HOT WATER</td>\n",
              "      <td>PHONE</td>\n",
              "      <td>128002</td>\n",
              "    </tr>\n",
              "    <tr>\n",
              "      <th>316</th>\n",
              "      <td>Noise - Residential</td>\n",
              "      <td>PHONE</td>\n",
              "      <td>95407</td>\n",
              "    </tr>\n",
              "    <tr>\n",
              "      <th>47</th>\n",
              "      <td>Blocked Driveway</td>\n",
              "      <td>PHONE</td>\n",
              "      <td>95206</td>\n",
              "    </tr>\n",
              "    <tr>\n",
              "      <th>429</th>\n",
              "      <td>Street Light Condition</td>\n",
              "      <td>UNKNOWN</td>\n",
              "      <td>77755</td>\n",
              "    </tr>\n",
              "    <tr>\n",
              "      <th>...</th>\n",
              "      <td>...</td>\n",
              "      <td>...</td>\n",
              "      <td>...</td>\n",
              "    </tr>\n",
              "    <tr>\n",
              "      <th>52</th>\n",
              "      <td>Bottled Water</td>\n",
              "      <td>PHONE</td>\n",
              "      <td>5</td>\n",
              "    </tr>\n",
              "    <tr>\n",
              "      <th>165</th>\n",
              "      <td>Fire Alarm - Reinspection</td>\n",
              "      <td>ONLINE</td>\n",
              "      <td>5</td>\n",
              "    </tr>\n",
              "    <tr>\n",
              "      <th>182</th>\n",
              "      <td>Forensic Engineering</td>\n",
              "      <td>UNKNOWN</td>\n",
              "      <td>5</td>\n",
              "    </tr>\n",
              "    <tr>\n",
              "      <th>374</th>\n",
              "      <td>Rangehood</td>\n",
              "      <td>ONLINE</td>\n",
              "      <td>5</td>\n",
              "    </tr>\n",
              "    <tr>\n",
              "      <th>517</th>\n",
              "      <td>X-Ray Machine/Equipment</td>\n",
              "      <td>ONLINE</td>\n",
              "      <td>5</td>\n",
              "    </tr>\n",
              "  </tbody>\n",
              "</table>\n",
              "<p>229 rows × 3 columns</p>\n",
              "</div>"
            ],
            "text/plain": [
              "                          complaint_type open_data_channel_type   count\n",
              "378  Request Large Bulky Item Collection                  PHONE  177175\n",
              "200                       HEAT/HOT WATER                  PHONE  128002\n",
              "316                  Noise - Residential                  PHONE   95407\n",
              "47                      Blocked Driveway                  PHONE   95206\n",
              "429               Street Light Condition                UNKNOWN   77755\n",
              "..                                   ...                    ...     ...\n",
              "52                         Bottled Water                  PHONE       5\n",
              "165            Fire Alarm - Reinspection                 ONLINE       5\n",
              "182                 Forensic Engineering                UNKNOWN       5\n",
              "374                            Rangehood                 ONLINE       5\n",
              "517              X-Ray Machine/Equipment                 ONLINE       5\n",
              "\n",
              "[229 rows x 3 columns]"
            ]
          },
          "metadata": {
            "tags": []
          },
          "execution_count": 24
        }
      ]
    },
    {
      "cell_type": "code",
      "metadata": {
        "id": "QexO-uMM_pOr",
        "colab_type": "code",
        "colab": {}
      },
      "source": [
        ""
      ],
      "execution_count": 0,
      "outputs": []
    }
  ]
}